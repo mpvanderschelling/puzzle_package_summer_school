{
 "cells": [
  {
   "cell_type": "code",
   "execution_count": 1,
   "id": "9ad6b349",
   "metadata": {},
   "outputs": [],
   "source": [
    "from region_generator import random_walk, random_chunks, roll_top_left\n",
    "from plotting_fn import plot_visited_grid\n",
    "import jax.random as jr\n",
    "import jax.numpy as jnp\n",
    "import jax"
   ]
  },
  {
   "cell_type": "code",
   "execution_count": 5,
   "id": "5a2d99f8",
   "metadata": {},
   "outputs": [
    {
     "data": {
      "image/png": "[encoded data removed]",
      "text/plain": [
       "<Figure size 1500x1500 with 100 Axes>"
      ]
     },
     "metadata": {},
     "output_type": "display_data"
    }
   ],
   "source": [
    "import numpy as np\n",
    "import matplotlib.pyplot as plt\n",
    "\n",
    "fig, axes = plt.subplots(10, 10, figsize=(15, 15))\n",
    "for i, ax in enumerate(axes.flat):\n",
    "    key = jr.key(i)\n",
    "    full_path, chunks = random_walk(key, max_steps=50, grid_size=10)\n",
    "    plot_visited_grid(full_path, chunks, grid_size=10, ax=ax)\n",
    "\n"
   ]
  },
  {
   "cell_type": "code",
   "execution_count": null,
   "id": "c662d720",
   "metadata": {},
   "outputs": [],
   "source": [
    "chunks.cumsum()"
   ]
  },
  {
   "cell_type": "code",
   "execution_count": null,
   "id": "a881fbb0",
   "metadata": {},
   "outputs": [],
   "source": [
    "jax.nn.one_hot(chunks)"
   ]
  },
  {
   "cell_type": "code",
   "execution_count": null,
   "id": "3a20e724",
   "metadata": {},
   "outputs": [],
   "source": [
    "full_path, chunks = random_walk(jr.key(1), max_steps=8, grid_size=4)"
   ]
  },
  {
   "cell_type": "code",
   "execution_count": null,
   "id": "bdaa259f",
   "metadata": {},
   "outputs": [],
   "source": [
    "chunks"
   ]
  },
  {
   "cell_type": "code",
   "execution_count": null,
   "id": "3511b357",
   "metadata": {},
   "outputs": [],
   "source": [
    "full_path.shape, chunks.shape"
   ]
  },
  {
   "cell_type": "code",
   "execution_count": null,
   "id": "501f9f36",
   "metadata": {},
   "outputs": [],
   "source": [
    "import jax\n",
    "import jax.numpy as jnp\n",
    "from jax import lax\n",
    "import equinox as eqx\n",
    "\n",
    "@eqx.filter_jit\n",
    "def random_chunk_encoding(key, n):\n",
    "    def cond_fn(state):\n",
    "        _, idx, _ = state\n",
    "        return idx < n\n",
    "\n",
    "    def body_fn(state):\n",
    "        key, idx, out = state\n",
    "        key, subkey = jax.random.split(key)\n",
    "\n",
    "        # Randomly choose between 2 and 5\n",
    "        chunk_size = jax.random.choice(subkey, jnp.array([2, 5]))\n",
    "\n",
    "        # Clip chunk_size if it would go past `n`\n",
    "        chunk_size = jnp.minimum(chunk_size, n - idx)\n",
    "\n",
    "        # Get label = previous max + 1\n",
    "        label = jnp.max(out) + 1\n",
    "\n",
    "        # Create chunk filled with label\n",
    "        update = jnp.full((chunk_size,), label, dtype=jnp.int32)\n",
    "\n",
    "        # Dynamically insert into the output at position idx\n",
    "        out = lax.dynamic_update_slice(out, update, (idx,))\n",
    "\n",
    "        return (key, idx + chunk_size, out)\n",
    "\n",
    "    # Initialize output\n",
    "    out = jnp.zeros((n,), dtype=jnp.int32)\n",
    "    init_state = (key, 0, out)\n",
    "\n",
    "    _, _, final_out = lax.while_loop(cond_fn, body_fn, init_state)\n",
    "    return final_out\n"
   ]
  },
  {
   "cell_type": "code",
   "execution_count": null,
   "id": "c36650f0",
   "metadata": {},
   "outputs": [],
   "source": [
    "random_chunk_encoding(jr.key(0), 10)"
   ]
  },
  {
   "cell_type": "code",
   "execution_count": null,
   "id": "05f12043",
   "metadata": {},
   "outputs": [],
   "source": [
    "full_path"
   ]
  },
  {
   "cell_type": "code",
   "execution_count": null,
   "id": "62a5b09d",
   "metadata": {},
   "outputs": [],
   "source": [
    "jnp.ones()"
   ]
  },
  {
   "cell_type": "code",
   "execution_count": null,
   "id": "cd6112e8",
   "metadata": {},
   "outputs": [],
   "source": [
    "c = jnp.concatenate([jnp.array([0]), chunks.cumsum()])\n",
    "c"
   ]
  },
  {
   "cell_type": "code",
   "execution_count": null,
   "id": "fbc070e4",
   "metadata": {},
   "outputs": [],
   "source": [
    "jax.lax.dynamice_slice"
   ]
  },
  {
   "cell_type": "code",
   "execution_count": null,
   "id": "c07396cc",
   "metadata": {},
   "outputs": [],
   "source": [
    "import jax\n",
    "import jax.numpy as jnp\n",
    "\n",
    "def chunk_and_pad(full_path: jnp.ndarray, chunks: jnp.ndarray):\n",
    "    # Compute start and length per chunk\n",
    "    starts = jnp.concatenate([jnp.array([0]), chunks[:-1]])\n",
    "    lengths = chunks - starts\n",
    "    max_len = jnp.max(lengths)\n",
    "\n",
    "    def get_chunk(i):\n",
    "        start = starts[i]\n",
    "        length = lengths[i]\n",
    "\n",
    "        sl = jax.lax.dynamic_slice(full_path, (start, 0), (length, 2))\n",
    "        pad_len = max_len - length\n",
    "        padding = jnp.full((pad_len, 2), -1, dtype=full_path.dtype)\n",
    "        return jnp.concatenate([sl, padding], axis=0)\n",
    "\n",
    "    chunks_padded = jax.vmap(get_chunk)(jnp.arange(chunks.shape[0]))\n",
    "    return chunks_padded\n",
    "\n",
    "chunks_padded = chunk_and_pad(full_path, chunks)"
   ]
  },
  {
   "cell_type": "code",
   "execution_count": null,
   "id": "9c7b39bf",
   "metadata": {},
   "outputs": [],
   "source": [
    "full_path"
   ]
  },
  {
   "cell_type": "code",
   "execution_count": null,
   "id": "4ce8a4cd",
   "metadata": {},
   "outputs": [],
   "source": [
    "def f(a, xs):\n",
    "    return a, xs\n",
    "\n",
    "jax.lax.scan(f,\n",
    "             init=0,\n",
    "             xs=(full_path, chunks))"
   ]
  },
  {
   "cell_type": "code",
   "execution_count": null,
   "id": "9b227d09",
   "metadata": {},
   "outputs": [],
   "source": [
    "full_path"
   ]
  },
  {
   "cell_type": "code",
   "execution_count": null,
   "id": "6e98418a",
   "metadata": {},
   "outputs": [],
   "source": [
    "@jax.jit\n",
    "def extract_pieces(full_path, chunks, grid_size):\n",
    "    def body_fn(carry, chunk):\n",
    "\n",
    "        idx_start = carry\n",
    "        idx_end = idx_start + chunk\n",
    "\n",
    "        sl = jax.lax.dynamic_slice(full_path, (idx_start, 0), (idx_end - idx_start, 2))\n",
    "\n",
    "        # Build the piece\n",
    "        def paint_loop(i, grid):\n",
    "            x, y = sl[i]\n",
    "            return grid.at[x, y].set(1)\n",
    "\n",
    "        grid = jnp.zeros((grid_size, grid_size), dtype=jnp.int32)\n",
    "        grid = jax.lax.fori_loop(0, sl.shape[0], paint_loop, grid)\n",
    "\n",
    "        # Shift to top-left\n",
    "        shifted = roll_top_left(grid)\n",
    "\n",
    "        return idx_end, shifted\n",
    "\n",
    "    _, pieces = jax.lax.scan(\n",
    "        body_fn,\n",
    "        init=0,\n",
    "        xs=chunks)\n",
    "    return pieces\n",
    "\n",
    "\n",
    "extract_pieces(full_path, chunks, grid_size=4)"
   ]
  },
  {
   "cell_type": "code",
   "execution_count": null,
   "id": "addbf987",
   "metadata": {},
   "outputs": [],
   "source": [
    "t\n",
    "        shifted = roll_top_left(grid)\n",
    "\n",
    "        return idx_end, shifted\n",
    "\n",
    "    _, pieces = jax.lax.scan(body_fn, init=0, xs=jnp.arange(num_pieces))\n",
    "    return pieces\n",
    "\n",
    "pieces = extract_pieces(full_path, chunks, grid_size=4)"
   ]
  },
  {
   "cell_type": "code",
   "execution_count": null,
   "id": "b1b167f8",
   "metadata": {},
   "outputs": [],
   "source": [
    "full_path.shape, chunks.shape"
   ]
  },
  {
   "cell_type": "code",
   "execution_count": null,
   "id": "6063e791",
   "metadata": {},
   "outputs": [],
   "source": [
    "full_path"
   ]
  },
  {
   "cell_type": "code",
   "execution_count": null,
   "id": "7e21a8b9",
   "metadata": {},
   "outputs": [],
   "source": [
    "chunks"
   ]
  },
  {
   "cell_type": "code",
   "execution_count": null,
   "id": "63237285",
   "metadata": {},
   "outputs": [],
   "source": [
    "grid_size = 4\n",
    "start_matrix = jnp.zeros((grid_size, grid_size))\n",
    "\n",
    "idx_start = 0\n",
    "for i, idx_end in enumerate(chunks, 1):\n",
    "    if idx_end == idx_start:\n",
    "        break\n",
    "    sl = full_path[idx_start:idx_end]\n",
    "    idx_start = idx_end\n",
    "    for x, y in sl:\n",
    "        start_matrix = start_matrix.at[x, y].set(-1)\n"
   ]
  },
  {
   "cell_type": "code",
   "execution_count": null,
   "id": "dbec6c78",
   "metadata": {},
   "outputs": [],
   "source": [
    "import jax.numpy as jnp\n",
    "\n",
    "def roll_top_left(arr):\n",
    "    # Roll up until first row is not all zeros\n",
    "    def cond_row(x): return jnp.all(x[0] == 0)\n",
    "    def body_row(x): return jnp.roll(x, shift=-1, axis=0)\n",
    "\n",
    "    arr = jax.lax.while_loop(cond_row, body_row, arr)\n",
    "\n",
    "    # Roll left until first column is not all zeros\n",
    "    def cond_col(x): return jnp.all(x[:, 0] == 0)\n",
    "    def body_col(x): return jnp.roll(x, shift=-1, axis=1)\n",
    "\n",
    "    arr = jax.lax.while_loop(cond_col, body_col, arr)\n",
    "\n",
    "    return arr\n",
    "\n",
    "\n",
    "idx_start = 0\n",
    "piece_list = []\n",
    "for i, idx_end in enumerate(chunks, 1):\n",
    "    starting_grid = jnp.zeros((grid_size, grid_size))\n",
    "    if idx_end != idx_start:\n",
    "        sl = full_path[idx_start:idx_end]\n",
    "        for x, y in sl:\n",
    "            starting_grid = starting_grid.at[x, y].set(1)\n",
    "        \n",
    "        starting_grid = roll_top_left(starting_grid)\n",
    "    piece_list.append(starting_grid)\n",
    "    idx_start = idx_end"
   ]
  },
  {
   "cell_type": "code",
   "execution_count": null,
   "id": "f67bc904",
   "metadata": {},
   "outputs": [],
   "source": [
    "piece_list"
   ]
  },
  {
   "cell_type": "code",
   "execution_count": null,
   "id": "f0ae3ecf",
   "metadata": {},
   "outputs": [],
   "source": [
    "piece_list[0]"
   ]
  },
  {
   "cell_type": "code",
   "execution_count": null,
   "id": "55febc09",
   "metadata": {},
   "outputs": [],
   "source": [
    "import jax.numpy as jnp\n",
    "\n",
    "def roll_top_left(arr):\n",
    "    # Roll up until first row is not all zeros\n",
    "    def cond_row(x): return jnp.all(x[0] == 0)\n",
    "    def body_row(x): return jnp.roll(x, shift=-1, axis=0)\n",
    "\n",
    "    arr = jax.lax.while_loop(cond_row, body_row, arr)\n",
    "\n",
    "    # Roll left until first column is not all zeros\n",
    "    def cond_col(x): return jnp.all(x[:, 0] == 0)\n",
    "    def body_col(x): return jnp.roll(x, shift=-1, axis=1)\n",
    "\n",
    "    arr = jax.lax.while_loop(cond_col, body_col, arr)\n",
    "\n",
    "    return arr\n"
   ]
  },
  {
   "cell_type": "code",
   "execution_count": null,
   "id": "8efedfea",
   "metadata": {},
   "outputs": [],
   "source": [
    "roll_top_left(piece_list[0])"
   ]
  },
  {
   "cell_type": "code",
   "execution_count": null,
   "id": "6a42091e",
   "metadata": {},
   "outputs": [],
   "source": [
    "fig, axes = plt.subplots(3, 3, figsize=(10, 10))\n",
    "for i, (piece, ax) in enumerate(zip(piece_list, axes.flat)):\n",
    "   ax.imshow(piece, cmap='gray', vmin=0, vmax=1) "
   ]
  },
  {
   "cell_type": "code",
   "execution_count": null,
   "id": "87618ff0",
   "metadata": {},
   "outputs": [],
   "source": [
    "start_matrix"
   ]
  },
  {
   "cell_type": "code",
   "execution_count": null,
   "id": "0d2cacc8",
   "metadata": {},
   "outputs": [],
   "source": [
    "jnp.arange(10)[0:3]"
   ]
  },
  {
   "cell_type": "code",
   "execution_count": null,
   "id": "a7e82064",
   "metadata": {},
   "outputs": [],
   "source": [
    "jnp.arange(10)[3:5]"
   ]
  },
  {
   "cell_type": "code",
   "execution_count": null,
   "id": "c46d509e",
   "metadata": {},
   "outputs": [],
   "source": [
    "start_matrix.T"
   ]
  },
  {
   "cell_type": "code",
   "execution_count": null,
   "id": "1a67b164",
   "metadata": {},
   "outputs": [],
   "source": [
    "full_path[18]"
   ]
  },
  {
   "cell_type": "code",
   "execution_count": null,
   "id": "479e06b1",
   "metadata": {},
   "outputs": [],
   "source": [
    "chunks"
   ]
  },
  {
   "cell_type": "code",
   "execution_count": null,
   "id": "abc5639c",
   "metadata": {},
   "outputs": [],
   "source": [
    "o = jax.jit(jnp.sum)(full_path != -1)\n",
    "o"
   ]
  },
  {
   "cell_type": "code",
   "execution_count": null,
   "id": "3747f5e5",
   "metadata": {},
   "outputs": [],
   "source": [
    "full_path"
   ]
  },
  {
   "cell_type": "code",
   "execution_count": null,
   "id": "e64e3635",
   "metadata": {},
   "outputs": [],
   "source": []
  },
  {
   "cell_type": "code",
   "execution_count": null,
   "id": "4d572741",
   "metadata": {},
   "outputs": [],
   "source": [
    "chunks = random_chunks(jr.key(0), o, 51)"
   ]
  },
  {
   "cell_type": "code",
   "execution_count": null,
   "id": "fd991d6b",
   "metadata": {},
   "outputs": [],
   "source": [
    "chunks.sum()"
   ]
  },
  {
   "cell_type": "code",
   "execution_count": null,
   "id": "679f5667",
   "metadata": {},
   "outputs": [],
   "source": [
    "chunks.cumsum()"
   ]
  },
  {
   "cell_type": "code",
   "execution_count": null,
   "id": "c2be574b",
   "metadata": {},
   "outputs": [],
   "source": []
  }
 ],
 "metadata": {
  "kernelspec": {
   "display_name": "optaxenv",
   "language": "python",
   "name": "python3"
  },
  "language_info": {
   "codemirror_mode": {
    "name": "ipython",
    "version": 3
   },
   "file_extension": ".py",
   "mimetype": "text/x-python",
   "name": "python",
   "nbconvert_exporter": "python",
   "pygments_lexer": "ipython3",
   "version": "3.10.18"
  }
 },
 "nbformat": 4,
 "nbformat_minor": 5
}
