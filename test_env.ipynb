{
 "cells": [
  {
   "cell_type": "code",
   "execution_count": 1,
   "id": "cea8e57d",
   "metadata": {},
   "outputs": [],
   "source": [
    "from environment import EnvParams, PackingGameEnv\n",
    "import jax.random as jr\n",
    "from matplotlib import pyplot as plt"
   ]
  },
  {
   "cell_type": "code",
   "execution_count": 2,
   "id": "dd549854",
   "metadata": {},
   "outputs": [],
   "source": [
    "env = PackingGameEnv()"
   ]
  },
  {
   "cell_type": "code",
   "execution_count": 3,
   "id": "a87f8261",
   "metadata": {},
   "outputs": [
    {
     "name": "stderr",
     "output_type": "stream",
     "text": [
      "/Users/martin/miniforge3/envs/optaxenv/lib/python3.10/site-packages/jax/_src/ops/scatter.py:92: FutureWarning: scatter inputs have incompatible types: cannot safely cast value from dtype=float32 to dtype=bool with jax_numpy_dtype_promotion='standard'. In future JAX releases this will result in an error.\n",
      "  warnings.warn(\n"
     ]
    }
   ],
   "source": [
    "obs, state = env.reset(jr.key(4), EnvParams())"
   ]
  },
  {
   "cell_type": "code",
   "execution_count": 4,
   "id": "1b30731f",
   "metadata": {},
   "outputs": [
    {
     "data": {
      "image/png": "[encoded data removed]",
      "text/plain": [
       "<Figure size 500x100 with 5 Axes>"
      ]
     },
     "metadata": {},
     "output_type": "display_data"
    }
   ],
   "source": [
    "state.roll_top_left().plot()"
   ]
  },
  {
   "cell_type": "code",
   "execution_count": null,
   "id": "dad91648",
   "metadata": {},
   "outputs": [],
   "source": []
  }
 ],
 "metadata": {
  "kernelspec": {
   "display_name": "optaxenv",
   "language": "python",
   "name": "python3"
  },
  "language_info": {
   "codemirror_mode": {
    "name": "ipython",
    "version": 3
   },
   "file_extension": ".py",
   "mimetype": "text/x-python",
   "name": "python",
   "nbconvert_exporter": "python",
   "pygments_lexer": "ipython3",
   "version": "3.10.18"
  }
 },
 "nbformat": 4,
 "nbformat_minor": 5
}
