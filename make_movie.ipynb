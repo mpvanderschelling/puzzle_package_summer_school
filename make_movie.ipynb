{
 "cells": [
  {
   "cell_type": "code",
   "execution_count": null,
   "id": "2ba234cd",
   "metadata": {},
   "outputs": [],
   "source": [
    "from visualize import load_neural_network, rollout_episode, load_config\n",
    "import gymnax"
   ]
  },
  {
   "cell_type": "code",
   "execution_count": null,
   "id": "57dc5efe",
   "metadata": {},
   "outputs": [],
   "source": [
    "base = '/Users/martin/Documents/GitHub/gymnax-blines/agents/PuzzlePacking/ppo'\n",
    "configs = load_config(base + '.yaml')\n",
    "\n",
    "model, model_params = load_neural_network(\n",
    "    configs.train_config, base + \".pkl\"\n",
    ")\n",
    "\n",
    "env, env_params = gymnax.make(\n",
    "    configs.train_config.env_name,\n",
    "    **configs.train_config.env_kwargs,\n",
    ")\n",
    "env_params.replace(**configs.train_config.env_params)\n",
    "state_seq, cum_rewards = rollout_episode(\n",
    "    env, env_params, model, model_params\n",
    ")"
   ]
  },
  {
   "cell_type": "code",
   "execution_count": null,
   "id": "48180b43",
   "metadata": {},
   "outputs": [],
   "source": [
    "import matplotlib.pyplot as plt\n",
    "import matplotlib.animation as animation\n",
    "plt.ioff()"
   ]
  },
  {
   "cell_type": "code",
   "execution_count": null,
   "id": "bc74fd04",
   "metadata": {},
   "outputs": [],
   "source": [
    "for i in range(len(state_seq)):\n",
    "    fig = env.render(state_seq[i], env_params)\n",
    "    fig.savefig(f\"frame_{i:03d}.png\")"
   ]
  },
  {
   "cell_type": "code",
   "execution_count": null,
   "id": "8360aa80",
   "metadata": {},
   "outputs": [],
   "source": []
  }
 ],
 "metadata": {
  "kernelspec": {
   "display_name": "summer_school",
   "language": "python",
   "name": "python3"
  },
  "language_info": {
   "codemirror_mode": {
    "name": "ipython",
    "version": 3
   },
   "file_extension": ".py",
   "mimetype": "text/x-python",
   "name": "python",
   "nbconvert_exporter": "python",
   "pygments_lexer": "ipython3",
   "version": "3.10.18"
  }
 },
 "nbformat": 4,
 "nbformat_minor": 5
}
