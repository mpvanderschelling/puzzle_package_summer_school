{
 "cells": [
  {
   "cell_type": "code",
   "execution_count": 8,
   "id": "6efffd06",
   "metadata": {},
   "outputs": [],
   "source": [
    "import jax.numpy as jnp\n",
    "import jax\n",
    "@jax.jit\n",
    "def padded_translate(arr, shift, grid_size: int = 4):\n",
    "    # Step 1: Pad array with zeros\n",
    "    padded = jnp.pad(arr, ((0, grid_size-1), (0, grid_size-1)), mode='constant')\n",
    "\n",
    "    # Step 2: Roll the padded array\n",
    "    rolled = jnp.roll(padded, shift=shift, axis=(0, 1))\n",
    "\n",
    "    # Step 3: Crop the central 4x4 region\n",
    "    return rolled[:grid_size, :grid_size]\n"
   ]
  },
  {
   "cell_type": "code",
   "execution_count": 7,
   "id": "b33c094e",
   "metadata": {},
   "outputs": [
    {
     "data": {
      "text/plain": [
       "Array([[0, 0, 0, 1],\n",
       "       [0, 0, 0, 1],\n",
       "       [0, 0, 0, 0],\n",
       "       [0, 0, 0, 0]], dtype=int32)"
      ]
     },
     "execution_count": 7,
     "metadata": {},
     "output_type": "execute_result"
    }
   ],
   "source": [
    "arr = jnp.array([[1, 0, 0, 0],\n",
    "                 [1, 1, 0, 0],\n",
    "                 [0, 0, 0, 0],\n",
    "                 [0, 0, 0, 0]])\n",
    "\n",
    "padded_translate(arr, shift=(0, 3))"
   ]
  },
  {
   "cell_type": "code",
   "execution_count": null,
   "id": "2725eb00",
   "metadata": {},
   "outputs": [],
   "source": [
    "arr = jnp.array([[1, 0, 0, 0],\n",
    "                 [0, 1, 0, 0],\n",
    "                 [0, 0, 1, 0],\n",
    "                 [0, 0, 0, 1]])\n",
    "\n",
    "padded = jnp.pad(arr, ((0, 3), (0, 3)), mode='constant')  # Example padding"
   ]
  },
  {
   "cell_type": "code",
   "execution_count": null,
   "id": "096f5fc5",
   "metadata": {},
   "outputs": [],
   "source": [
    "rolled = jnp.roll(padded, shift=(2, 1), axis=(0, 1))  # Example rolling"
   ]
  },
  {
   "cell_type": "code",
   "execution_count": null,
   "id": "30a6b004",
   "metadata": {},
   "outputs": [],
   "source": [
    "rolled[:4]  # Display the central 4x4 region"
   ]
  },
  {
   "cell_type": "code",
   "execution_count": null,
   "id": "fb97cb66",
   "metadata": {},
   "outputs": [],
   "source": []
  }
 ],
 "metadata": {
  "kernelspec": {
   "display_name": "optaxenv",
   "language": "python",
   "name": "python3"
  },
  "language_info": {
   "codemirror_mode": {
    "name": "ipython",
    "version": 3
   },
   "file_extension": ".py",
   "mimetype": "text/x-python",
   "name": "python",
   "nbconvert_exporter": "python",
   "pygments_lexer": "ipython3",
   "version": "3.10.18"
  }
 },
 "nbformat": 4,
 "nbformat_minor": 5
}
