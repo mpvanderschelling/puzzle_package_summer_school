{
 "cells": [
  {
   "cell_type": "code",
   "execution_count": 1,
   "id": "fb97cb66",
   "metadata": {},
   "outputs": [],
   "source": [
    "from region_generator import create_puzzle\n",
    "from move import padded_translate\n",
    "from plotting_fn import plt_imshow\n",
    "import jax.random as jr\n",
    "import matplotlib.pyplot as plt\n",
    "import jax\n",
    "import jax.numpy as jnp\n",
    "from functools import partial\n",
    "from gymnax.experimental.rollout import RolloutWrapper"
   ]
  },
  {
   "cell_type": "code",
   "execution_count": null,
   "id": "0d0efc9d",
   "metadata": {},
   "outputs": [],
   "source": [
    "rollout = RolloutWrapper(env_name=\"PuzzlePacking\",\n",
    "                         env_params={'max_steps_in_episode': 4},\n",
    "                           num_env_steps=4)"
   ]
  },
  {
   "cell_type": "code",
   "execution_count": 16,
   "id": "0d96b782",
   "metadata": {},
   "outputs": [],
   "source": [
    "obs, action, reward, next_obs, done, cum_return = rollout.batch_rollout(jr.split(jr.key(0), 64), None)"
   ]
  },
  {
   "cell_type": "code",
   "execution_count": null,
   "id": "58e64c61",
   "metadata": {},
   "outputs": [],
   "source": []
  },
  {
   "cell_type": "code",
   "execution_count": null,
   "id": "0995aa67",
   "metadata": {},
   "outputs": [],
   "source": []
  },
  {
   "cell_type": "code",
   "execution_count": 19,
   "id": "00fa302e",
   "metadata": {},
   "outputs": [
    {
     "data": {
      "text/plain": [
       "Array([[ 0.23076925],\n",
       "       [ 0.5       ],\n",
       "       [-0.3846154 ],\n",
       "       [ 0.6363636 ],\n",
       "       [ 0.8181818 ],\n",
       "       [ 0.38461542],\n",
       "       [ 0.6363636 ],\n",
       "       [ 0.6666667 ],\n",
       "       [ 0.6       ],\n",
       "       [ 0.33333334],\n",
       "       [ 1.        ],\n",
       "       [ 0.8       ],\n",
       "       [ 1.        ],\n",
       "       [ 0.20000002],\n",
       "       [ 0.5       ],\n",
       "       [ 0.5714286 ],\n",
       "       [ 0.8181818 ],\n",
       "       [ 1.0000001 ],\n",
       "       [ 0.3333333 ],\n",
       "       [ 0.6666667 ],\n",
       "       [ 0.5       ],\n",
       "       [ 0.4       ],\n",
       "       [ 1.        ],\n",
       "       [ 1.        ],\n",
       "       [ 0.8000001 ],\n",
       "       [ 0.45454547],\n",
       "       [ 0.2       ],\n",
       "       [ 0.42857143],\n",
       "       [ 0.23076922],\n",
       "       [ 0.33333334],\n",
       "       [ 0.45454547],\n",
       "       [ 0.5714286 ],\n",
       "       [ 0.6923077 ],\n",
       "       [ 1.        ],\n",
       "       [ 0.6363636 ],\n",
       "       [ 0.5       ],\n",
       "       [ 0.33333334],\n",
       "       [ 0.8       ],\n",
       "       [ 0.6666667 ],\n",
       "       [ 0.8181819 ],\n",
       "       [ 1.        ],\n",
       "       [ 1.        ],\n",
       "       [ 0.6363636 ],\n",
       "       [ 0.45454547],\n",
       "       [ 0.8333334 ],\n",
       "       [ 0.6       ],\n",
       "       [ 0.09090909],\n",
       "       [ 0.45454547],\n",
       "       [ 0.8333334 ],\n",
       "       [ 1.        ],\n",
       "       [ 0.5714286 ],\n",
       "       [ 0.7777778 ],\n",
       "       [ 0.6       ],\n",
       "       [ 0.8       ],\n",
       "       [ 0.8181818 ],\n",
       "       [ 0.6       ],\n",
       "       [ 0.8181819 ],\n",
       "       [ 0.45454547],\n",
       "       [ 0.84615386],\n",
       "       [ 0.        ],\n",
       "       [ 0.3846154 ],\n",
       "       [ 0.53846157],\n",
       "       [ 0.2857143 ],\n",
       "       [ 0.6363636 ]], dtype=float32)"
      ]
     },
     "execution_count": 19,
     "metadata": {},
     "output_type": "execute_result"
    }
   ],
   "source": [
    "cum_return"
   ]
  },
  {
   "cell_type": "code",
   "execution_count": null,
   "id": "d36fa447",
   "metadata": {},
   "outputs": [],
   "source": [
    "env, env_params = gymnax.make(\"PuzzlePacking\")"
   ]
  },
  {
   "cell_type": "code",
   "execution_count": null,
   "id": "82198eaa",
   "metadata": {},
   "outputs": [],
   "source": [
    "obs, state = env.reset(jr.key(0), env_params)"
   ]
  },
  {
   "cell_type": "code",
   "execution_count": null,
   "id": "ce83ba17",
   "metadata": {},
   "outputs": [],
   "source": [
    "env.render(state, env_params)"
   ]
  },
  {
   "cell_type": "code",
   "execution_count": null,
   "id": "f3e6a250",
   "metadata": {},
   "outputs": [],
   "source": [
    "state"
   ]
  },
  {
   "cell_type": "code",
   "execution_count": null,
   "id": "ed26b35f",
   "metadata": {},
   "outputs": [],
   "source": [
    "obs, state, reward, done, info = env.step(jr.key(1), state, 0, env_params)"
   ]
  },
  {
   "cell_type": "code",
   "execution_count": null,
   "id": "2a8a0eba",
   "metadata": {},
   "outputs": [],
   "source": [
    "env.render(state, env_params), reward"
   ]
  },
  {
   "cell_type": "code",
   "execution_count": null,
   "id": "717615cf",
   "metadata": {},
   "outputs": [],
   "source": []
  },
  {
   "cell_type": "code",
   "execution_count": null,
   "id": "e10a5337",
   "metadata": {},
   "outputs": [],
   "source": [
    "state.grid"
   ]
  },
  {
   "cell_type": "code",
   "execution_count": null,
   "id": "9d95334a",
   "metadata": {},
   "outputs": [],
   "source": [
    "rolled_other_pieces = jnp.roll(state.other_pieces, shift=-1, axis=0)\n",
    "rolled_other_pieces"
   ]
  },
  {
   "cell_type": "code",
   "execution_count": null,
   "id": "7f704430",
   "metadata": {},
   "outputs": [],
   "source": [
    "# set last piece to zero\n",
    "rolled_other_pieces2 = rolled_other_pieces.at[-1].set(jnp.zeros_like(rolled_other_pieces[-1]))\n",
    "rolled_other_pieces2"
   ]
  },
  {
   "cell_type": "code",
   "execution_count": null,
   "id": "c260f44c",
   "metadata": {},
   "outputs": [],
   "source": [
    "padded_translate(state.next_piece.astype(float), shift=jnp.array((3, 3)), grid_size=4)"
   ]
  },
  {
   "cell_type": "code",
   "execution_count": null,
   "id": "e64dff60",
   "metadata": {},
   "outputs": [],
   "source": [
    "gr = state.grid.astype(float) - 1\n",
    "gr"
   ]
  },
  {
   "cell_type": "code",
   "execution_count": null,
   "id": "085076e8",
   "metadata": {},
   "outputs": [],
   "source": [
    "x = state.next_piece.astype(float)\n",
    "x"
   ]
  },
  {
   "cell_type": "code",
   "execution_count": null,
   "id": "c923e123",
   "metadata": {},
   "outputs": [],
   "source": [
    "grid_size = 4\n",
    "shift = jnp.array((3, 3))\n",
    "padded_x = jnp.pad(\n",
    "    x, ((0, grid_size-1), (0, grid_size-1)), mode=\"constant\"\n",
    ")\n",
    "rolled = jnp.roll(padded_x, shift=shift, axis=(0, 1))\n",
    "rolled\n",
    "rolled_cropped = rolled[:grid_size, :grid_size]"
   ]
  },
  {
   "cell_type": "code",
   "execution_count": null,
   "id": "aa4e33f8",
   "metadata": {},
   "outputs": [],
   "source": [
    "rolled.sum() - rolled_cropped.sum()"
   ]
  },
  {
   "cell_type": "code",
   "execution_count": null,
   "id": "4c180d73",
   "metadata": {},
   "outputs": [],
   "source": [
    "rolled_cropped.sum()"
   ]
  },
  {
   "cell_type": "code",
   "execution_count": null,
   "id": "4a0f4967",
   "metadata": {},
   "outputs": [],
   "source": [
    "jnp.sum(jnp.abs(gr + x))"
   ]
  },
  {
   "cell_type": "code",
   "execution_count": null,
   "id": "3f1305ed",
   "metadata": {},
   "outputs": [],
   "source": [
    "env.render(state, env_params)"
   ]
  },
  {
   "cell_type": "code",
   "execution_count": null,
   "id": "36036af7",
   "metadata": {},
   "outputs": [],
   "source": [
    "key = jr.key(5)\n",
    "grid_size = 4\n",
    "\n",
    "n = 10\n",
    "fig, axes = plt.subplots(n, n, figsize=(n*2, n*2))\n",
    "puzzle_fn = partial(create_puzzle, \n",
    "                    grid_size=4,\n",
    "                    n_pieces=4,\n",
    "                    min_piece_size=2,\n",
    "                    max_piece_size=4,\n",
    "                    )\n",
    "puzzles = jax.vmap(puzzle_fn)(jr.split(key, n*n))\n",
    "for i, (puzzle, ax) in enumerate(zip(puzzles, axes.flat)):\n",
    "    plt_imshow(puzzle, ax=ax)"
   ]
  },
  {
   "cell_type": "code",
   "execution_count": null,
   "id": "a09d5696",
   "metadata": {},
   "outputs": [],
   "source": [
    "from region_generator import roll_top_left"
   ]
  },
  {
   "cell_type": "code",
   "execution_count": null,
   "id": "963363f4",
   "metadata": {},
   "outputs": [],
   "source": [
    "jax.vmap(roll_top_left)(puzzle[1:])"
   ]
  },
  {
   "cell_type": "code",
   "execution_count": null,
   "id": "b1eeedc9",
   "metadata": {},
   "outputs": [],
   "source": [
    "puzzle = puzzle.astype(jnp.float32)"
   ]
  },
  {
   "cell_type": "code",
   "execution_count": null,
   "id": "0dfa9c6c",
   "metadata": {},
   "outputs": [],
   "source": [
    "puzzle"
   ]
  },
  {
   "cell_type": "code",
   "execution_count": null,
   "id": "85fb3ef0",
   "metadata": {},
   "outputs": [],
   "source": [
    "plt_imshow(puzzle)"
   ]
  },
  {
   "cell_type": "code",
   "execution_count": null,
   "id": "5655b532",
   "metadata": {},
   "outputs": [],
   "source": [
    "\n",
    "@jax.jit\n",
    "def sample_coord(key, prob_matrix):\n",
    "    # Flatten the 4x4 matrix\n",
    "    probs_flat = prob_matrix.reshape(-1)\n",
    "    path_grid = jnp.full_like(prob_matrix, 0.0)\n",
    "\n",
    "    # Sample an index according to the probability distribution\n",
    "    idx = jr.choice(key, a=probs_flat.shape[0], p=probs_flat)\n",
    "\n",
    "    # Convert flat index back to (row, col)\n",
    "    row = idx // prob_matrix.shape[1]\n",
    "    col = idx % prob_matrix.shape[1]\n",
    "\n",
    "    prob_matrix = prob_matrix.at[row, col].set(False)  # Set the sampled position to 0\n",
    "    path_grid = path_grid.at[row, col].set(1.0)  # Mark the sampled position in the path grid\n",
    "\n",
    "    return jnp.array([row, col]), prob_matrix, path_grid"
   ]
  },
  {
   "cell_type": "code",
   "execution_count": null,
   "id": "a75fc21b",
   "metadata": {},
   "outputs": [],
   "source": [
    "import jax.random as jr\n",
    "colors = jnp.array([\n",
    "        [0, 0, 0],   # Red\n",
    "        [0, 1, 0],   # Green\n",
    "        [0, 0, 1],   # Blue\n",
    "        [1, 1, 0],   # Yellow\n",
    "        [1, 0, 1],   # Magenta\n",
    "    ])\n",
    "\n",
    "def plt_imshow(puzzle, ax=None):\n",
    "    if ax is None:\n",
    "        fig, ax = plt.subplots(figsize=(4, 4))\n",
    "\n",
    "    # Initialize blank RGB image\n",
    "    H, W = puzzle.shape[1], puzzle.shape[2]\n",
    "    rgb_image = jnp.zeros((H, W, 3))\n",
    "\n",
    "    # Add each mask's color where it's True\n",
    "    for i in range(puzzle.shape[0]):\n",
    "        mask = puzzle[i]  # shape (H, W)\n",
    "        for c in range(3):\n",
    "            rgb_image = rgb_image.at[:, :, c].add(mask * colors[i, c])\n",
    "\n",
    "    # Clip to [0, 1] in case of overlapping True values\n",
    "    rgb_image = jnp.clip(rgb_image, 0, 1)\n",
    "\n",
    "    # Plot\n",
    "    ax.imshow(rgb_image)\n",
    "    ax.set_axis_off()\n",
    "\n",
    "@eqx.filter_jit\n",
    "def create_puzzle(key: PRNGKeyArray, grid_size: int = 4, max_piece_size: int = 4):\n",
    "    key_walk, key_sizes = jr.split(key)\n",
    "    init_grid = jnp.ones((grid_size, grid_size), dtype=bool)\n",
    "    pieces = 4\n",
    "    piece_sizes = jr.randint(key_sizes, shape=(pieces,), minval=2, maxval=4)\n",
    "\n",
    "    def place_piece(carry, piece_size):\n",
    "        key, visited_grid = carry\n",
    "        new_key, _ = jr.split(key)\n",
    "\n",
    "        path_init = jnp.full((max_piece_size, 2), -1)\n",
    "        start_pos, visited_grid, path_grid = sample_coord(key, visited_grid)\n",
    "\n",
    "        path_init = path_init.at[0].set(start_pos)\n",
    "\n",
    "        def step_fn(carry, _):\n",
    "            pos, visited, path, path_grid, step, done, key = carry\n",
    "            key, subkey = jr.split(key)\n",
    "\n",
    "            def early_exit():\n",
    "                return (pos, visited, path, path_grid, step, True, key), None\n",
    "\n",
    "            def do_step():\n",
    "                candidates = pos + deltas  # (4, 2)\n",
    "                in_bounds = jnp.all((candidates >= 0) & (\n",
    "                    candidates < grid_size), axis=1)\n",
    "                cx, cy = candidates.T\n",
    "                not_visited = visited[cx, cy]\n",
    "                valid_mask = in_bounds & not_visited\n",
    "\n",
    "                # If no valid moves, done=True\n",
    "                any_valid = jnp.any(valid_mask)\n",
    "\n",
    "\n",
    "                def no_valid():\n",
    "                    return (pos, visited, path, path_grid, step, True, key), None\n",
    "\n",
    "                def has_valid():\n",
    "                    # Assign large negative logits to invalid moves so they won't be sampled\n",
    "                    logits = jnp.where(valid_mask, 0.0, -1e9)\n",
    "                    move_idx = jr.categorical(key, logits)\n",
    "                    new_pos = candidates[move_idx]\n",
    "                    visited_updated = visited.at[new_pos[0], new_pos[1]].set(False)\n",
    "                    path_grid_updated = path_grid.at[new_pos[0], new_pos[1]].set(1.0)\n",
    "                    path_updated = path.at[step + 1].set(new_pos)\n",
    "                    return (new_pos, visited_updated, path_updated, path_grid_updated, step + 1, False, key), None\n",
    "\n",
    "                return jax.lax.cond(any_valid, has_valid, no_valid)\n",
    "\n",
    "            return jax.lax.cond(done, early_exit, do_step)  \n",
    "\n",
    "        init_state = (start_pos, visited_grid, path_init, path_grid, 0, False, key)\n",
    "\n",
    "        final_state, _ = jax.lax.scan(\n",
    "            step_fn,\n",
    "            init=init_state,\n",
    "            xs=None,\n",
    "            length=max_piece_size - 1)\n",
    "        _, final_grid, _, new_path_grid, _, _, _ = final_state\n",
    "\n",
    "        return (new_key, final_grid), new_path_grid\n",
    "    init_carry = (key_walk, init_grid)\n",
    "    (_, final_state), pieces = jax.lax.scan(\n",
    "        place_piece,\n",
    "        init=init_carry,\n",
    "        xs=piece_sizes,\n",
    "        )\n",
    "    \n",
    "    return jnp.concat((final_state[None, :], pieces), axis=0)\n",
    "\n",
    "key = jr.key(5)\n",
    "grid_size = 4\n",
    "\n",
    "n = 10\n",
    "fig, axes = plt.subplots(n, n, figsize=(n*2, n*2))\n",
    "puzzles = jax.vmap(create_puzzle, in_axes=(0, None))(jr.split(key, n*n), grid_size)\n",
    "for i, (puzzle, ax) in enumerate(zip(puzzles, axes.flat)):\n",
    "    plt_imshow(puzzle, ax=ax)"
   ]
  },
  {
   "cell_type": "code",
   "execution_count": null,
   "id": "8ceb57ec",
   "metadata": {},
   "outputs": [],
   "source": []
  },
  {
   "cell_type": "code",
   "execution_count": null,
   "id": "d009a9bb",
   "metadata": {},
   "outputs": [],
   "source": [
    "\n",
    "def plot_imshow(puzzle, ax=None):\n",
    "    if ax is None:\n",
    "        fig, ax = plt.subplots(figsize=(4, 4))\n",
    "    # Define distinct RGB colors for each mask\n",
    "    colors = jnp.array([\n",
    "        [0, 0, 0],   # Red\n",
    "        [0, 1, 0],   # Green\n",
    "        [0, 0, 1],   # Blue\n",
    "        [1, 1, 0],   # Yellow\n",
    "        [1, 0, 1],   # Magenta\n",
    "    ])\n",
    "\n",
    "    # Initialize blank RGB image\n",
    "    H, W = puzzle.shape[1], puzzle.shape[2]\n",
    "    rgb_image = jnp.zeros((H, W, 3))\n",
    "\n",
    "    # Add each mask's color where it's True\n",
    "    for i in range(puzzle.shape[0]):\n",
    "        mask = puzzle[i]  # shape (H, W)\n",
    "        for c in range(3):\n",
    "            rgb_image = rgb_image.at[:, :, c].add(mask * colors[i, c])\n",
    "\n",
    "    # Clip to [0, 1] in case of overlapping True values\n",
    "    rgb_image = jnp.clip(rgb_image, 0, 1)\n",
    "\n",
    "    # Plot\n",
    "    fig, ax = plt.subplots(figsize=(4, 4))\n",
    "    ax.imshow(rgb_image)\n",
    "    ax.set_axis_off()"
   ]
  },
  {
   "cell_type": "code",
   "execution_count": null,
   "id": "3efa39c8",
   "metadata": {},
   "outputs": [],
   "source": [
    "jnp.concat((grid[None, :], pieces), axis=0)"
   ]
  },
  {
   "cell_type": "code",
   "execution_count": null,
   "id": "72e0806c",
   "metadata": {},
   "outputs": [],
   "source": [
    "plt_imshow(grid)"
   ]
  },
  {
   "cell_type": "code",
   "execution_count": null,
   "id": "83ad8e19",
   "metadata": {},
   "outputs": [],
   "source": [
    "for i, piece in enumerate(pieces):\n",
    "    print(f\"Piece {i+1}:\")\n",
    "    plt_imshow(piece)\n",
    "    plt.show()"
   ]
  },
  {
   "cell_type": "code",
   "execution_count": null,
   "id": "74a44a2b",
   "metadata": {},
   "outputs": [],
   "source": [
    "\n",
    "plt_imshow(final_grid)"
   ]
  },
  {
   "cell_type": "code",
   "execution_count": null,
   "id": "529c3111",
   "metadata": {},
   "outputs": [],
   "source": [
    "start_pos"
   ]
  },
  {
   "cell_type": "code",
   "execution_count": null,
   "id": "675e5ef1",
   "metadata": {},
   "outputs": [],
   "source": [
    "pos = start_pos"
   ]
  },
  {
   "cell_type": "code",
   "execution_count": null,
   "id": "d10536ca",
   "metadata": {},
   "outputs": [],
   "source": [
    "candidates = pos + deltas\n",
    "in_bounds = jnp.all((candidates >= 0) & (\n",
    "            candidates < grid_size), axis=1)\n",
    "\n",
    "cx, cy = candidates.T"
   ]
  },
  {
   "cell_type": "code",
   "execution_count": null,
   "id": "0f9268cd",
   "metadata": {},
   "outputs": [],
   "source": [
    "~visited_grid[cx, cy]"
   ]
  },
  {
   "cell_type": "code",
   "execution_count": null,
   "id": "90bfc0f6",
   "metadata": {},
   "outputs": [],
   "source": [
    "candidates"
   ]
  },
  {
   "cell_type": "code",
   "execution_count": null,
   "id": "8e4c510d",
   "metadata": {},
   "outputs": [],
   "source": [
    "visited_grid"
   ]
  },
  {
   "cell_type": "code",
   "execution_count": null,
   "id": "9f991502",
   "metadata": {},
   "outputs": [],
   "source": [
    "import jax\n",
    "import jax.numpy as jnp\n",
    "from jax import random\n",
    "\n",
    "@jax.jit\n",
    "def sample_coord_from_mask(key, mask):\n",
    "    flat_mask = mask.ravel().astype(jnp.float32)  # Convert bool → float\n",
    "    probs = flat_mask / jnp.sum(flat_mask)        # Normalize to sum to 1\n",
    "\n",
    "    flat_idx = random.choice(key, a=flat_mask.shape[0], p=probs)\n",
    "    coord = jnp.unravel_index(flat_idx, mask.shape)\n",
    "    return coord\n"
   ]
  },
  {
   "cell_type": "code",
   "execution_count": null,
   "id": "e4145f5e",
   "metadata": {},
   "outputs": [],
   "source": [
    "key = jr.key(3)\n",
    "mask = jnp.array([[False, True, False],\n",
    "                  [True, False, False],\n",
    "                  [False, True, True]])\n",
    "\n",
    "coord = sample_coord_from_mask(key, mask)\n",
    "print(coord)  # e.g., (2, 1)\n"
   ]
  },
  {
   "cell_type": "code",
   "execution_count": null,
   "id": "d7b7b0a9",
   "metadata": {},
   "outputs": [],
   "source": []
  }
 ],
 "metadata": {
  "kernelspec": {
   "display_name": "summer_school",
   "language": "python",
   "name": "python3"
  },
  "language_info": {
   "codemirror_mode": {
    "name": "ipython",
    "version": 3
   },
   "file_extension": ".py",
   "mimetype": "text/x-python",
   "name": "python",
   "nbconvert_exporter": "python",
   "pygments_lexer": "ipython3",
   "version": "3.10.18"
  }
 },
 "nbformat": 4,
 "nbformat_minor": 5
}
